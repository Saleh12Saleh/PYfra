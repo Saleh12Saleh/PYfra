{
 "cells": [
  {
   "cell_type": "markdown",
   "id": "db5573b0",
   "metadata": {},
   "source": [
    "# Notebook 4\n",
    "==============\n",
    "Modelling"
   ]
  },
  {
   "cell_type": "markdown",
   "id": "e6481b84",
   "metadata": {},
   "source": [
    "# Importing Packages and Data"
   ]
  },
  {
   "cell_type": "code",
   "execution_count": 1,
   "id": "525683d8",
   "metadata": {
    "lines_to_next_cell": 2
   },
   "outputs": [],
   "source": [
    "import pyfra\n",
    "import pandas as pd\n",
    "import numpy as np\n",
    "from matplotlib import pyplot as plt\n",
    "%matplotlib inline\n",
    "import seaborn as sns\n",
    "from sklearn.model_selection import train_test_split, GridSearchCV, RepeatedStratifiedKFold\n",
    "from sklearn.feature_selection import SelectKBest\n",
    "from sklearn.model_selection import RepeatedKFold\n",
    "from sklearn.linear_model import LogisticRegression\n",
    "from sklearn.ensemble import RandomForestClassifier, StackingClassifier \n",
    "from sklearn import svm\n",
    "from sklearn.tree import DecisionTreeClassifier, plot_tree\n",
    "from sklearn import preprocessing\n",
    "from sklearn.metrics import f1_score, accuracy_score, recall_score, make_scorer\n",
    "from imblearn import under_sampling\n",
    "from imblearn.under_sampling import RandomUnderSampler\n",
    "from time import sleep\n",
    "from sklearn.ensemble import AdaBoostClassifier"
   ]
  },
  {
   "cell_type": "code",
   "execution_count": 75,
   "id": "ec28951a",
   "metadata": {},
   "outputs": [],
   "source": [
    "df = pd.read_pickle('../data/df.p')\n",
    "n_rows_complete = len(df)"
   ]
  },
  {
   "cell_type": "code",
   "execution_count": 76,
   "id": "7fc687d2",
   "metadata": {},
   "outputs": [],
   "source": [
    "df = df.drop(columns=['adress','gps_origin','latitude','longitude'])\n",
    "df.municipality.fillna(55,inplace=True)"
   ]
  },
  {
   "cell_type": "code",
   "execution_count": 77,
   "id": "ba0f1c4f",
   "metadata": {},
   "outputs": [
    {
     "data": {
      "text/plain": [
       "1    712\n",
       "4    654\n",
       "3    356\n",
       "2     35\n",
       "Name: Severity, dtype: int64"
      ]
     },
     "execution_count": 77,
     "metadata": {},
     "output_type": "execute_result"
    }
   ],
   "source": [
    "df_sample=df.sample(frac=0.007,random_state=23)\n",
    "data = df_sample.drop(columns='Severity',axis=1).select_dtypes(include=np.number).dropna(axis=1)\n",
    "target = df_sample.Severity\n",
    "target.value_counts()"
   ]
  },
  {
   "cell_type": "code",
   "execution_count": 78,
   "id": "5c4a3459",
   "metadata": {},
   "outputs": [],
   "source": [
    "X_train, X_test, y_train, y_test  = train_test_split(data, target, test_size=0.2 ,random_state=23)"
   ]
  },
  {
   "cell_type": "code",
   "execution_count": 79,
   "id": "95951501",
   "metadata": {},
   "outputs": [],
   "source": [
    "std_scaler = preprocessing.StandardScaler().fit(X_train)\n",
    "X_train_scaled = std_scaler.transform(X_train)\n",
    "X_test_scaled = std_scaler.transform(X_test)"
   ]
  },
  {
   "cell_type": "code",
   "execution_count": 80,
   "id": "f8ba20e8",
   "metadata": {},
   "outputs": [
    {
     "name": "stdout",
     "output_type": "stream",
     "text": [
      "We use 60 of the original 381 features\n"
     ]
    },
    {
     "name": "stderr",
     "output_type": "stream",
     "text": [
      "C:\\Users\\User\\anaconda3\\lib\\site-packages\\sklearn\\feature_selection\\_univariate_selection.py:112: UserWarning: Features [ 22  32  74 150 152 153 154 155 161 176 182 188 192 193 195 210 250 259\n",
      " 260 261 267 272 273 276 282 284 285 291 292 294 295 297 298 299 301 302\n",
      " 303 304 310 312 315 316 319 321 323 327 328 329 331 342 349 351 368] are constant.\n",
      "  warnings.warn(\"Features %s are constant.\" % constant_features_idx, UserWarning)\n",
      "C:\\Users\\User\\anaconda3\\lib\\site-packages\\sklearn\\feature_selection\\_univariate_selection.py:113: RuntimeWarning: invalid value encountered in true_divide\n",
      "  f = msb / msw\n"
     ]
    }
   ],
   "source": [
    "k_features = 60\n",
    "kbest_selector = SelectKBest(k=k_features)\n",
    "kbest_selector.fit(X_train_scaled,y_train);\n",
    "X_train_scaled = kbest_selector.transform(X_train_scaled)\n",
    "X_test_scaled = kbest_selector.transform(X_test_scaled)\n",
    "print(f'We use {k_features} of the original {df.shape[1]} features')"
   ]
  },
  {
   "cell_type": "code",
   "execution_count": 81,
   "id": "430c3219",
   "metadata": {},
   "outputs": [
    {
     "data": {
      "text/html": [
       "<div>\n",
       "<style scoped>\n",
       "    .dataframe tbody tr th:only-of-type {\n",
       "        vertical-align: middle;\n",
       "    }\n",
       "\n",
       "    .dataframe tbody tr th {\n",
       "        vertical-align: top;\n",
       "    }\n",
       "\n",
       "    .dataframe thead th {\n",
       "        text-align: right;\n",
       "    }\n",
       "</style>\n",
       "<table border=\"1\" class=\"dataframe\">\n",
       "  <thead>\n",
       "    <tr style=\"text-align: right;\">\n",
       "      <th></th>\n",
       "      <th>model</th>\n",
       "      <th>f1</th>\n",
       "      <th>accuracy</th>\n",
       "      <th>recall</th>\n",
       "    </tr>\n",
       "  </thead>\n",
       "  <tbody>\n",
       "  </tbody>\n",
       "</table>\n",
       "</div>"
      ],
      "text/plain": [
       "Empty DataFrame\n",
       "Columns: [model, f1, accuracy, recall]\n",
       "Index: []"
      ]
     },
     "execution_count": 81,
     "metadata": {},
     "output_type": "execute_result"
    }
   ],
   "source": [
    "# Creating a matrix to store the results\n",
    "result_metrics = pd.DataFrame(columns=['model', 'f1', 'accuracy', 'recall'])\n",
    "result_metrics"
   ]
  },
  {
   "cell_type": "code",
   "execution_count": 82,
   "id": "0e6d640c",
   "metadata": {},
   "outputs": [],
   "source": [
    "# Creating a function to compute and store the results for the respective model\n",
    "def store_metrics(model_name, model, y_test, y_pred, result_df):\n",
    "    result_df.loc[model_name, 'model'] = model\n",
    "    result_df.loc[model_name, 'f1'] = f1_score(y_true=y_test, y_pred=y_pred, average='weighted')\n",
    "    result_df.loc[model_name, 'accuracy'] = accuracy_score(y_true=y_test, y_pred=y_pred)\n",
    "    result_df.loc[model_name, 'recall'] = recall_score(y_true=y_test, y_pred=y_pred, average='weighted')\n",
    "    return result_df"
   ]
  },
  {
   "cell_type": "code",
   "execution_count": 83,
   "id": "d71aa96e",
   "metadata": {},
   "outputs": [],
   "source": [
    "cv = RepeatedStratifiedKFold(n_splits=5, n_repeats=2, random_state=23)"
   ]
  },
  {
   "cell_type": "code",
   "execution_count": 84,
   "id": "e11652af",
   "metadata": {},
   "outputs": [],
   "source": [
    "# Instantiation of the SVM Classifier\n",
    "# We set the cache size to 1600 MB (default: 200 MB) to reduce the computing time.\n",
    "# The other parameters will be set via grid search.\n",
    "svc = svm.SVC(cache_size=1600)\n",
    "\n",
    "# Choosing the parameters for the grid search\n",
    "svc_params = {\n",
    "    'kernel': ['poly', 'rbf', 'sigmoid'],\n",
    "    'gamma': [0.1, 0.5, 'scale'],\n",
    "    'C': [0.1, 0.5, 1, 2]\n",
    "}\n",
    "\n",
    "# Setup of the scoring. \n",
    "# We have to define the parameter 'average', because we are not dealing with a binary classification.\n",
    "# Our sample is balanced, hence we can use a simple approach, using 'micro', which uses the global values of \n",
    "# true positives, false negatives and false positives.\n",
    "f1_scoring = make_scorer(score_func=f1_score, average='micro')\n",
    "\n",
    "# Instantiation of the GridSearchCv\n",
    "# n_jobs is set to -1 to use all available threads for computation.\n",
    "svc_grid = GridSearchCV(svc, param_grid=svc_params, scoring=f1_scoring, cv=cv, n_jobs=-1)"
   ]
  },
  {
   "cell_type": "code",
   "execution_count": 47,
   "id": "c47b0aa8",
   "metadata": {},
   "outputs": [
    {
     "name": "stdout",
     "output_type": "stream",
     "text": [
      "Best parameter combination:  {'C': 2, 'gamma': 'scale', 'kernel': 'rbf'}\n"
     ]
    }
   ],
   "source": [
    "# Fitting the grid search to find the best parameter combination\n",
    "svc_grid.fit(X_train_scaled, y_train)\n",
    "\n",
    "# Print result of parameter optimization\n",
    "print('Best parameter combination: ',svc_grid.best_params_)\n",
    "\n",
    "# Predict target variable for the test set\n",
    "svc = svc_grid.best_estimator_\n",
    "y_svc = svc.predict(X_test_scaled)\n"
   ]
  },
  {
   "cell_type": "code",
   "execution_count": 13,
   "id": "eba8a40a",
   "metadata": {},
   "outputs": [
    {
     "data": {
      "text/html": [
       "<div>\n",
       "<style scoped>\n",
       "    .dataframe tbody tr th:only-of-type {\n",
       "        vertical-align: middle;\n",
       "    }\n",
       "\n",
       "    .dataframe tbody tr th {\n",
       "        vertical-align: top;\n",
       "    }\n",
       "\n",
       "    .dataframe thead th {\n",
       "        text-align: right;\n",
       "    }\n",
       "</style>\n",
       "<table border=\"1\" class=\"dataframe\">\n",
       "  <thead>\n",
       "    <tr style=\"text-align: right;\">\n",
       "      <th></th>\n",
       "      <th>model</th>\n",
       "      <th>f1</th>\n",
       "      <th>accuracy</th>\n",
       "      <th>recall</th>\n",
       "    </tr>\n",
       "  </thead>\n",
       "  <tbody>\n",
       "    <tr>\n",
       "      <th>Support Vector Machine</th>\n",
       "      <td>SVC(C=0.5, cache_size=1600)</td>\n",
       "      <td>0.453348</td>\n",
       "      <td>0.495854</td>\n",
       "      <td>0.495854</td>\n",
       "    </tr>\n",
       "  </tbody>\n",
       "</table>\n",
       "</div>"
      ],
      "text/plain": [
       "                                              model        f1  accuracy  \\\n",
       "Support Vector Machine  SVC(C=0.5, cache_size=1600)  0.453348  0.495854   \n",
       "\n",
       "                          recall  \n",
       "Support Vector Machine  0.495854  "
      ]
     },
     "execution_count": 13,
     "metadata": {},
     "output_type": "execute_result"
    }
   ],
   "source": [
    "# Calculate the metrics for the optimal svm model and store them in the result_metrics DataFrame \n",
    "# The model will be stored as well in the DataFrame\n",
    "result_metrics = store_metrics(model=svc, model_name='Support Vector Machine',\n",
    "                               y_test=y_test, y_pred=y_svc,\n",
    "                               result_df=result_metrics)\n",
    "# Show the interim result                               \n",
    "result_metrics"
   ]
  },
  {
   "cell_type": "code",
   "execution_count": null,
   "id": "989573b6",
   "metadata": {},
   "outputs": [],
   "source": [
    "#LR"
   ]
  },
  {
   "cell_type": "code",
   "execution_count": 85,
   "id": "866ec768",
   "metadata": {},
   "outputs": [],
   "source": [
    "#We use and define logistic Regression with n_jobs=-1 to use all cores\n",
    "LR = LogisticRegression()\n",
    "#for parameters we use 3 type of solver and 6 for C\n",
    "LR_params = {\n",
    "    'solver': ['liblinear', 'lbfgs', 'saga'], \n",
    "    'C': [10**(i) for i in range(-5, 5)]\n",
    "}\n",
    "\n",
    "f1_scoring = make_scorer(score_func=f1_score, average='micro')\n",
    "\n",
    "# Instantiation of the GridSearchCv\n",
    "LR_grid = GridSearchCV(LR, param_grid=LR_params, scoring=f1_scoring, cv=cv, n_jobs=-1)"
   ]
  },
  {
   "cell_type": "code",
   "execution_count": 86,
   "id": "c0496e40",
   "metadata": {
    "lines_to_next_cell": 2
   },
   "outputs": [
    {
     "name": "stdout",
     "output_type": "stream",
     "text": [
      "Best parameter combination:  {'C': 100, 'solver': 'saga'}\n"
     ]
    },
    {
     "name": "stderr",
     "output_type": "stream",
     "text": [
      "C:\\Users\\User\\anaconda3\\lib\\site-packages\\sklearn\\linear_model\\_sag.py:352: ConvergenceWarning: The max_iter was reached which means the coef_ did not converge\n",
      "  warnings.warn(\n"
     ]
    },
    {
     "data": {
      "text/html": [
       "<div>\n",
       "<style scoped>\n",
       "    .dataframe tbody tr th:only-of-type {\n",
       "        vertical-align: middle;\n",
       "    }\n",
       "\n",
       "    .dataframe tbody tr th {\n",
       "        vertical-align: top;\n",
       "    }\n",
       "\n",
       "    .dataframe thead th {\n",
       "        text-align: right;\n",
       "    }\n",
       "</style>\n",
       "<table border=\"1\" class=\"dataframe\">\n",
       "  <thead>\n",
       "    <tr style=\"text-align: right;\">\n",
       "      <th></th>\n",
       "      <th>model</th>\n",
       "      <th>f1</th>\n",
       "      <th>accuracy</th>\n",
       "      <th>recall</th>\n",
       "    </tr>\n",
       "  </thead>\n",
       "  <tbody>\n",
       "    <tr>\n",
       "      <th>Logistic Regression</th>\n",
       "      <td>LogisticRegression(C=100, solver='saga')</td>\n",
       "      <td>0.484554</td>\n",
       "      <td>0.497159</td>\n",
       "      <td>0.497159</td>\n",
       "    </tr>\n",
       "  </tbody>\n",
       "</table>\n",
       "</div>"
      ],
      "text/plain": [
       "                                                        model        f1  \\\n",
       "Logistic Regression  LogisticRegression(C=100, solver='saga')  0.484554   \n",
       "\n",
       "                     accuracy    recall  \n",
       "Logistic Regression  0.497159  0.497159  "
      ]
     },
     "execution_count": 86,
     "metadata": {},
     "output_type": "execute_result"
    }
   ],
   "source": [
    "# Fitting the grid search to find the best parameter combination\n",
    "LR_grid.fit(X_train_scaled, y_train)\n",
    "\n",
    "# Print result of parameter optimization\n",
    "print('Best parameter combination: ',LR_grid.best_params_)\n",
    "\n",
    "# Predict target variable for the test set\n",
    "LR = LR_grid.best_estimator_\n",
    "y_LR = LR.predict(X_test_scaled)\n",
    "# Calculate the metrics for the optimal LR model and store them in the result_metrics DataFrame \n",
    "# The model will be stored as well in the DataFrame\n",
    "result_metrics = store_metrics(model=LR, model_name='Logistic Regression',\n",
    "                               y_test=y_test, y_pred=y_LR,\n",
    "                               result_df=result_metrics)\n",
    "# Show the interim result                               \n",
    "result_metrics"
   ]
  },
  {
   "cell_type": "code",
   "execution_count": 87,
   "id": "ce1d152f",
   "metadata": {},
   "outputs": [
    {
     "data": {
      "image/png": "[encoded data removed]",
      "text/plain": [
       "<Figure size 400x400 with 2 Axes>"
      ]
     },
     "metadata": {},
     "output_type": "display_data"
    }
   ],
   "source": [
    "pyfra.print_confusion_matrix(y_test, y_LR, \n",
    "                            model_name='Logistic Regression Classifier',\n",
    "                            filename='Imb_LR')"
   ]
  },
  {
   "cell_type": "markdown",
   "id": "177fb9a3",
   "metadata": {},
   "source": [
    "# Random Forest"
   ]
  },
  {
   "cell_type": "code",
   "execution_count": null,
   "id": "38ba1c2b",
   "metadata": {},
   "outputs": [],
   "source": [
    "params = {\n",
    "    'criterion': ['gini'],\n",
    "    'max_depth': [5,10],\n",
    "    'min_samples_leaf':[3,7],\n",
    "    'n_estimators': [50,100]\n",
    "    }\n",
    "\n",
    "RFCLF = GridSearchCV(RandomForestClassifier(),param_grid = params, cv = cv)\n",
    "RFCLF.fit(X_train_scaled,y_train)\n",
    "\n",
    "print('Best Params are:',RFCLF.best_params_)\n",
    "print('Best Score is:',RFCLF.best_score_)"
   ]
  },
  {
   "cell_type": "code",
   "execution_count": null,
   "id": "77ef19bf",
   "metadata": {},
   "outputs": [],
   "source": [
    "rf = RFCLF.best_estimator_\n",
    "y_rf = rf.predict(X_test_scaled)\n",
    "\n",
    "cm = pd.crosstab(y_test,y_rf, rownames=['Real'], colnames=['Prediction'])\n",
    "print(cm)\n",
    "\n",
    "result_metrics = pyfra.store_metrics(model=rf, model_name='Random Forest',\n",
    "                               y_test=y_test, y_pred=y_rf,\n",
    "                               result_df=result_metrics)\n",
    "                              \n",
    "result_metrics"
   ]
  },
  {
   "cell_type": "markdown",
   "id": "c31ac247",
   "metadata": {},
   "source": [
    "# Decision Tree"
   ]
  },
  {
   "cell_type": "code",
   "execution_count": null,
   "id": "916ce22f",
   "metadata": {},
   "outputs": [],
   "source": [
    "from sklearn import tree\n",
    "from sklearn.pipeline import Pipeline\n",
    "\n",
    "# Grid\n",
    "criterion = ['gini', 'entropy']\n",
    "max_depth = [2,4,6,8,10,12]\n",
    "parameters = dict(criterion=criterion, max_depth=max_depth)\n",
    "\n",
    "DT = GridSearchCV(DecisionTreeClassifier(),param_grid = parameters, cv = RepeatedKFold(n_splits=4, n_repeats=1, random_state=23))\n",
    "# \n",
    "DT.fit(X_train_scaled,y_train)\n",
    "\n",
    "# \n",
    "print('Best Criterion:', DT.best_estimator_.get_params())\n",
    "print('Best max_depth:', DT.best_estimator_.get_params())\n",
    "print(); print(DT.best_estimator_.get_params())"
   ]
  },
  {
   "cell_type": "code",
   "execution_count": null,
   "id": "7b6050d7",
   "metadata": {},
   "outputs": [],
   "source": [
    "dt = DT.best_estimator_\n",
    "y_dt = dt.predict(X_test_scaled)\n",
    "cm = pd.crosstab(y_test,y_dt, rownames=['Real'], colnames=['Prediction'])\n",
    "print(cm)\n",
    "result_metrics = pyfra.store_metrics(model=dt, model_name='Decision Tree',\n",
    "                               y_test=y_test, y_pred=y_dt,\n",
    "                               result_df=result_metrics)\n",
    "                              \n",
    "result_metrics"
   ]
  },
  {
   "cell_type": "code",
   "execution_count": null,
   "id": "9d2afe06",
   "metadata": {},
   "outputs": [],
   "source": [
    "plt.barh(y=result_metrics.index.values, width=result_metrics['f1']);\n",
    "plt.title('$F_1$ Score of different ML models');"
   ]
  },
  {
   "cell_type": "code",
   "execution_count": null,
   "id": "cec9c14c",
   "metadata": {},
   "outputs": [],
   "source": [
    "result_metrics.to_pickle('../data/nb_4_results.p')"
   ]
  }
 ],
 "metadata": {
  "jupytext": {
   "cell_metadata_filter": "-LanguageId",
   "formats": "ipynb,py:light",
   "main_language": "python",
   "notebook_metadata_filter": "-kernelspec"
  },
  "kernelspec": {
   "display_name": "Python 3 (ipykernel)",
   "language": "python",
   "name": "python3"
  },
  "language_info": {
   "codemirror_mode": {
    "name": "ipython",
    "version": 3
   },
   "file_extension": ".py",
   "mimetype": "text/x-python",
   "name": "python",
   "nbconvert_exporter": "python",
   "pygments_lexer": "ipython3",
   "version": "3.9.13"
  }
 },
 "nbformat": 4,
 "nbformat_minor": 5
}
