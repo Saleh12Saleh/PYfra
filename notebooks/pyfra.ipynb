{
 "cells": [
  {
   "cell_type": "code",
   "execution_count": null,
   "id": "25f9eb56",
   "metadata": {},
   "outputs": [],
   "source": [
    "\"\"\"This module provides classes and functions available for all notebooks of the pyfra project.\"\"\""
   ]
  },
  {
   "cell_type": "code",
   "execution_count": 1,
   "id": "118df794",
   "metadata": {
    "lines_to_next_cell": 1
   },
   "outputs": [],
   "source": [
    "import pandas as pd\n",
    "from sklearn.metrics import f1_score, accuracy_score, recall_score"
   ]
  },
  {
   "cell_type": "code",
   "execution_count": 2,
   "id": "2b9c01b4",
   "metadata": {
    "lines_to_next_cell": 1
   },
   "outputs": [],
   "source": [
    "def df_testing_info(df):\n",
    "    \"\"\"Returns a DataFrame that describes the given DataFrame\"\"\"\n",
    "    df_dtypes_and_na_counts = pd.DataFrame({'dtypes':df.dtypes, 'n_na': df.isna().sum()})\n",
    "    return pd.concat([df.describe().T, df_dtypes_and_na_counts])"
   ]
  },
  {
   "cell_type": "code",
   "execution_count": 3,
   "id": "64f87409",
   "metadata": {
    "lines_to_next_cell": 1
   },
   "outputs": [],
   "source": [
    "def df_compare_to_description(df, description_filepath):\n",
    "    '''Check whether or not the data is up-to-date \n",
    "    if DataFrame file can't be tracked on github because of it's file size)\n",
    "    '''\n",
    "    pd.testing.assert_frame_equal(left=(pd.read_csv(description_filepath, index_col=0)), \\\n",
    "                         right=df_testing_info(df),\\\n",
    "                         check_dtype=False, check_exact=False)"
   ]
  },
  {
   "cell_type": "code",
   "execution_count": 4,
   "id": "8f888289",
   "metadata": {},
   "outputs": [],
   "source": [
    "def store_metrics(model_name, model, y_test, y_pred, result_df=None):\n",
    "    '''Returns a DataFrame containing the scores for the given model\n",
    "    Appends the given result_df or creates a new one, if unprovided\n",
    "    '''\n",
    "    if result_df is None:\n",
    "        result_df = pd.DataFrame(columns=['model', 'f1', 'accuracy', 'recall'])\n",
    "\n",
    "    result_df.loc[model_name, 'model'] = model\n",
    "    result_df.loc[model_name, 'f1'] = f1_score(y_true=y_test, y_pred=y_pred, average='weighted')\n",
    "    result_df.loc[model_name, 'accuracy'] = accuracy_score(y_true=y_test, y_pred=y_pred)\n",
    "    result_df.loc[model_name, 'recall'] = recall_score(y_true=y_test, y_pred=y_pred, average='weighted')\n",
    "    return result_df"
   ]
  }
 ],
 "metadata": {
  "jupytext": {
   "cell_metadata_filter": "-LanguageId",
   "notebook_metadata_filter": "-all"
  },
  "kernelspec": {
   "display_name": "Python 3 (ipykernel)",
   "language": "python",
   "name": "python3"
  },
  "language_info": {
   "codemirror_mode": {
    "name": "ipython",
    "version": 3
   },
   "file_extension": ".py",
   "mimetype": "text/x-python",
   "name": "python",
   "nbconvert_exporter": "python",
   "pygments_lexer": "ipython3",
   "version": "3.9.13"
  }
 },
 "nbformat": 4,
 "nbformat_minor": 5
}
