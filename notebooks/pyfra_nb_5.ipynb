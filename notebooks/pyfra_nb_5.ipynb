{
 "cells": [
  {
   "cell_type": "markdown",
   "id": "2aaa41b4",
   "metadata": {},
   "source": [
    "Notebook 5\n",
    "==============\n",
    "Further Analysis"
   ]
  },
  {
   "cell_type": "markdown",
   "id": "ae43e28c",
   "metadata": {},
   "source": [
    "# Outline\n",
    "The aim is to further investigate the models developed in the third notebook.\n",
    "We will\n",
    "1. Identify the relationship between amount of training data and model performance\n",
    "2. Compare the performance of our model with a naive approach of training on the un-stratified, imbalanced dataset"
   ]
  },
  {
   "cell_type": "markdown",
   "id": "85e47bf8",
   "metadata": {},
   "source": [
    "# Import Modules, Data and Model "
   ]
  },
  {
   "cell_type": "code",
   "execution_count": null,
   "id": "46fcb30b",
   "metadata": {
    "lines_to_next_cell": 2
   },
   "outputs": [],
   "source": [
    "# Import the modules\n",
    "import pyfra\n",
    "import pandas as pd\n",
    "import numpy as np\n",
    "from matplotlib import pyplot as plt\n",
    "from joblib import load\n",
    "from sklearn.model_selection import train_test_split\n",
    "from imblearn.under_sampling import RandomUnderSampler"
   ]
  },
  {
   "cell_type": "code",
   "execution_count": null,
   "id": "65271718",
   "metadata": {},
   "outputs": [],
   "source": [
    "df = pd.read_pickle('../data/df.p')\n",
    "n_rows_complete = len(df)"
   ]
  },
  {
   "cell_type": "code",
   "execution_count": null,
   "id": "24fae0a8",
   "metadata": {},
   "outputs": [],
   "source": [
    "# Check whether or not the data is up-to-date (file can't be tracked on github because of it's file size)\n",
    "pd.testing.assert_frame_equal(left=(pd.read_csv('../data/df_check_info.csv', index_col=0)), \\\n",
    "                         right=pyfra.df_testing_info(df),\\\n",
    "                         check_dtype=False, check_exact=False)"
   ]
  },
  {
   "cell_type": "code",
   "execution_count": null,
   "id": "18fc6e62",
   "metadata": {},
   "outputs": [],
   "source": [
    "rus = RandomUnderSampler(random_state=23)"
   ]
  },
  {
   "cell_type": "code",
   "execution_count": null,
   "id": "aaa48219",
   "metadata": {},
   "outputs": [],
   "source": [
    "data = df.drop(columns='Severity',axis=1).select_dtypes(include=np.number).dropna(axis=1)\n",
    "target = df['Severity']\n",
    "data, target = rus.fit_resample(X=data, y=target)"
   ]
  },
  {
   "cell_type": "code",
   "execution_count": null,
   "id": "1ed7f4bd",
   "metadata": {},
   "outputs": [],
   "source": [
    "target.value_counts()"
   ]
  },
  {
   "cell_type": "code",
   "execution_count": null,
   "id": "0ae65fd5",
   "metadata": {},
   "outputs": [],
   "source": [
    "print(f'We are working on {len(target)} data points, which represent {len(target)/n_rows_complete*100:.04f}% of the original data,')"
   ]
  },
  {
   "cell_type": "code",
   "execution_count": null,
   "id": "db3b6ad9",
   "metadata": {},
   "outputs": [],
   "source": [
    "data = df.drop(columns='Severity',axis=1).select_dtypes(include=np.number).dropna(axis=1)\n",
    "target = df['Severity']"
   ]
  },
  {
   "cell_type": "markdown",
   "id": "a55f7b3a",
   "metadata": {},
   "source": [
    "# Relation between Amount of Training Data and Model Performance"
   ]
  },
  {
   "cell_type": "code",
   "execution_count": null,
   "id": "9dff1b03",
   "metadata": {},
   "outputs": [],
   "source": [
    "preprocessing_pipeline = load('../models/preprocessing_pipeline.joblib')\n",
    "svc = load('../models/svc.joblib')\n",
    "stacking_clf = load('../models/stacking_clf.joblib')"
   ]
  },
  {
   "cell_type": "code",
   "execution_count": null,
   "id": "448fa068",
   "metadata": {},
   "outputs": [],
   "source": [
    "svc.verbose= 100\n",
    "stacking_clf.verbose = 100"
   ]
  },
  {
   "cell_type": "code",
   "execution_count": null,
   "id": "4a9d7a80",
   "metadata": {},
   "outputs": [],
   "source": [
    "# Creating a matrix to store the results\n",
    "result_metrics = pd.DataFrame(columns=['model', 'n_rows','f1', 'accuracy', 'recall'])\n",
    "result_metrics.index.name = 'id'\n",
    "result_metrics\n",
    "result_metrics.shape"
   ]
  },
  {
   "cell_type": "code",
   "execution_count": null,
   "id": "ed5fa9b0",
   "metadata": {},
   "outputs": [],
   "source": [
    "# Create a sample of the data, because the whole dataset is too big for us to work with\n",
    "#df = df.sample(n=n_rows, random_state=23)\n",
    "from sklearn.utils import random"
   ]
  },
  {
   "cell_type": "code",
   "execution_count": null,
   "id": "90869f8f",
   "metadata": {},
   "outputs": [],
   "source": [
    "# Creating a function to compute and store the results for the respective model\n",
    "from sklearn.utils import random\n",
    "from sklearn.metrics import f1_score, accuracy_score, recall_score\n",
    "def store_metrics(model_label, model, n_rows, result_df):\n",
    "    id = result_df.shape[0]\n",
    "    result_df.loc[id, 'model_label'] = model_label\n",
    "    result_df.loc[id, 'model'] = model\n",
    "    result_df.loc[id, 'n_rows'] = n_rows\n",
    "    print(f'Splitting {n_rows} rows of data...')\n",
    "    sample_indices = random.sample_without_replacement(n_population=len(target), \n",
    "                                                       n_samples=n_rows)\n",
    "    data_sample = data.iloc[sample_indices]\n",
    "    target_sample = target.iloc[sample_indices]\n",
    "    X_train, X_test, y_train, y_test = train_test_split(data_sample, \n",
    "                                                        target_sample, \n",
    "                                                        test_size=0.2, \n",
    "                                                        random_state=23, \n",
    "                                                        stratify=target_sample)\n",
    "    print(f'Preprocessing Data...')\n",
    "    X_train = preprocessing_pipeline.fit_transform(X_train, y_train)\n",
    "    X_test = preprocessing_pipeline.transform(X_test)\n",
    "    print(f'Fitting {model_label}...')\n",
    "    model.fit(X_train, y_train)\n",
    "    print(f'Predicting...')\n",
    "    y_pred = model.predict(X_test)\n",
    "    print(f'Computing scores...')\n",
    "    result_df.loc[id, 'f1'] = f1_score(y_true=y_test, y_pred=y_pred, average='weighted')\n",
    "    result_df.loc[id, 'accuracy'] = accuracy_score(y_true=y_test, y_pred=y_pred)\n",
    "    result_df.loc[id, 'recall'] = recall_score(y_true=y_test, y_pred=y_pred, average='weighted')\n",
    "    return result_df"
   ]
  },
  {
   "cell_type": "code",
   "execution_count": null,
   "id": "9a692bff",
   "metadata": {},
   "outputs": [],
   "source": [
    "\n",
    "for n_rows in [500, 1_000, 2_000, 5_000, 10_000, 20_000]:\n",
    "    result_metrics = store_metrics('stacking', stacking_clf, n_rows, result_metrics)\n",
    "print(result_metrics)"
   ]
  },
  {
   "cell_type": "code",
   "execution_count": null,
   "id": "8ce8710c",
   "metadata": {},
   "outputs": [],
   "source": [
    "result_metrics"
   ]
  }
 ],
 "metadata": {
  "jupytext": {
   "cell_metadata_filter": "-LanguageId",
   "notebook_metadata_filter": "-kernelspec"
  },
  "kernelspec": {
   "display_name": "Python 3 (ipykernel)",
   "language": "python",
   "name": "python3"
  },
  "language_info": {
   "codemirror_mode": {
    "name": "ipython",
    "version": 3
   },
   "file_extension": ".py",
   "mimetype": "text/x-python",
   "name": "python",
   "nbconvert_exporter": "python",
   "pygments_lexer": "ipython3",
   "version": "3.9.13"
  }
 },
 "nbformat": 4,
 "nbformat_minor": 5
}
